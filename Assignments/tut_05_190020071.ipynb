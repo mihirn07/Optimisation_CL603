{
 "cells": [
  {
   "cell_type": "code",
   "execution_count": 1,
   "id": "bb69804b",
   "metadata": {},
   "outputs": [],
   "source": [
    "import numpy as np\n",
    "import matplotlib.pyplot as plt\n",
    "import matplotlib"
   ]
  },
  {
   "cell_type": "markdown",
   "id": "4c8517a4",
   "metadata": {},
   "source": [
    "# Powell Dogleg Trust Region Alogrithm"
   ]
  },
  {
   "cell_type": "code",
   "execution_count": 2,
   "id": "7cde80a9",
   "metadata": {},
   "outputs": [],
   "source": [
    "#Function that returns the value of function given a vector\n",
    "def func(x):\n",
    "    val = (x[1]-x[0])**4 + 8*x[0]*x[1] - x[0] + x[1] + 3\n",
    "    return val"
   ]
  },
  {
   "cell_type": "code",
   "execution_count": 3,
   "id": "c5f8cd85",
   "metadata": {},
   "outputs": [],
   "source": [
    "# Analytically defined function to calculate gradient of function at a given point\n",
    "def gradient(x):\n",
    "    grad = np.zeros(2)\n",
    "    grad[0] = -4*(x[1]-x[0])**3 + 8*x[1] -1\n",
    "    grad[1] = 4*(x[1]-x[0])**3 + 8*x[0] +1\n",
    "    return grad.reshape((2,1))"
   ]
  },
  {
   "cell_type": "code",
   "execution_count": 6,
   "id": "ce5eec3d",
   "metadata": {},
   "outputs": [],
   "source": [
    "#Function that returns hessian matrix\n",
    "def hessian(x):    \n",
    "    val = np.array([[0,0],\n",
    "                    [0,0]])\n",
    "    val[0][0] = 12*(x[1]-x[0])**2\n",
    "    val[1][1] = 12*(x[1]-x[0])**2\n",
    "    val[0][1] = 8-12*(x[1]-x[0])**2\n",
    "    val[1][0] = val[0][1]\n",
    "    return val"
   ]
  },
  {
   "cell_type": "code",
   "execution_count": 22,
   "id": "a1ea23d9",
   "metadata": {},
   "outputs": [],
   "source": [
    "#Squared Norm of a two dimensional vector\n",
    "def norm(x):\n",
    "    val = x[0]**2 + x[1]**2\n",
    "    val = val**0.5\n",
    "    return val"
   ]
  },
  {
   "cell_type": "code",
   "execution_count": 66,
   "id": "949dc68c",
   "metadata": {},
   "outputs": [],
   "source": [
    "def pc_eval(del_k, xk):\n",
    "    if np.transpose(gradient(xk)).dot(hessian(xk)).dot(gradient(xk))>0:\n",
    "        num = np.transpose(gradient(xk)).dot(gradient(xk))\n",
    "        den = np.transpose(gradient(xk)).dot(hessian(xk)).dot(gradient(xk))\n",
    "        pc = -1*(num/den)*gradient(xk)\n",
    "    else:\n",
    "        pc = -1*(del_k/norm(gradient(xk)))*gradient(xk)\n",
    "    \n",
    "    return pc"
   ]
  },
  {
   "cell_type": "code",
   "execution_count": 67,
   "id": "3a6048f5",
   "metadata": {},
   "outputs": [],
   "source": [
    "def pn_eval(xk):\n",
    "    pn = -1*np.linalg.inv(hessian(xk)).dot(gradient(xk))\n",
    "    return pn"
   ]
  },
  {
   "cell_type": "code",
   "execution_count": 72,
   "id": "1dae65de",
   "metadata": {},
   "outputs": [],
   "source": [
    "def pk_eval(del_k, xk, eta):\n",
    "    if norm(pn_eval(xk))<=del_k:\n",
    "        pk = pn_eval(xk)\n",
    "        return pk\n",
    "    \n",
    "    elif norm(pc_eval(del_k,xk))>= del_k:\n",
    "        pk = (del_k/norm(pc_eval(del_k,xk)))*(pc_eval(del_k,xk))\n",
    "        return pk\n",
    "   \n",
    "    else:\n",
    "        pk = eta*pn_eval(xk) + (1-eta)*pc_eval(del_k,xk)\n",
    "        return pk"
   ]
  },
  {
   "cell_type": "code",
   "execution_count": 89,
   "id": "a376cd47",
   "metadata": {},
   "outputs": [],
   "source": [
    "def mk_func(xk, pk):\n",
    "    mk = func(xk) + np.transpose(gradient(xk)).dot(pk) + 0.5*np.transpose(pk).dot(hessian(xk)).dot(pk)\n",
    "    return mk"
   ]
  },
  {
   "cell_type": "code",
   "execution_count": 90,
   "id": "26319710",
   "metadata": {},
   "outputs": [],
   "source": [
    "def rhok_eval(xk, pk):\n",
    "    num = func(xk) - func(xk + pk)\n",
    "    den = mk_func(xk, np.array([0,0]).reshape((2,1))) - mk_func(xk,pk)\n",
    "    rho_k = num/den\n",
    "    \n",
    "    return rho_k"
   ]
  },
  {
   "cell_type": "code",
   "execution_count": 138,
   "id": "753dde05",
   "metadata": {},
   "outputs": [],
   "source": [
    "x0 = np.array([1.5,1.5]).reshape((2,1))\n",
    "maxiter = 15000\n",
    "tol = 10**-6\n",
    "del_0 = 0.5\n",
    "eta = 0.2\n",
    "del_bar = 1"
   ]
  },
  {
   "cell_type": "code",
   "execution_count": 133,
   "id": "2ae9709a",
   "metadata": {
    "scrolled": false
   },
   "outputs": [],
   "source": [
    "def powell_dogleg_trust_region(x0, maxiter, tol, del_0, eta, del_bar):\n",
    "    i = 1\n",
    "    x = x0\n",
    "    delta = del_0\n",
    "    X = {0:[x0, func(x0)]}\n",
    "    while i<maxiter and norm(gradient(x))>tol:\n",
    "            pk = pk_eval(delta, x, eta)\n",
    "            rho_k = rhok_eval(x,pk)\n",
    "\n",
    "            if rho_k<0.25:\n",
    "                delta_nex = 0.25*norm(pk)\n",
    "\n",
    "            else:\n",
    "                if rho_k>0.75 and norm(pk) == delta:\n",
    "                    delta_nex = min(2*delta, del_bar)\n",
    "                else:\n",
    "                    delta_nex = delta\n",
    "\n",
    "            if rho_k>eta:\n",
    "                x = x + pk\n",
    "            delta = delta_nex\n",
    "            \n",
    "            X[i] = [x,func(x)]\n",
    "            i = i+1\n",
    "    print('Converged value of x is', np.transpose(x))\n",
    "    print('Corresponding value of f(x) is ', func(x))\n",
    "    print('Corresponding value of grad(x) is ', np.transpose(gradient(x)))\n",
    "    print('Number of iterations taken is',i-1)\n",
    "    if i==maxiter:\n",
    "        print('Maximum iterations reached but convergence did not happen')\n",
    "    return X                      "
   ]
  },
  {
   "cell_type": "code",
   "execution_count": 134,
   "id": "edb3a785",
   "metadata": {},
   "outputs": [
    {
     "name": "stdout",
     "output_type": "stream",
     "text": [
      "Converged value of x is [[ 0.55357991 -0.55357991]]\n",
      "Corresponding value of f(x) is  [0.94382711]\n",
      "Corresponding value of grad(x) is  [[-5.04827996e-07  5.04827996e-07]]\n",
      "Number of iterations taken is 9\n"
     ]
    }
   ],
   "source": [
    "powell_dog = powell_dogleg_trust_region(x0, maxiter, tol, del_0, eta, del_bar)"
   ]
  },
  {
   "cell_type": "markdown",
   "id": "a7e38a5d",
   "metadata": {},
   "source": [
    "# Plotting"
   ]
  },
  {
   "cell_type": "code",
   "execution_count": 135,
   "id": "a7bf018c",
   "metadata": {},
   "outputs": [],
   "source": [
    "x = np.array(list(powell_dog.keys()))\n",
    "x1_val = []\n",
    "x2_val = []\n",
    "fx_val = []\n",
    "for i in x:\n",
    "    x1_val.append(powell_dog[i][0][0])\n",
    "    x2_val.append(powell_dog[i][0][1])\n",
    "    fx_val.append(powell_dog[i][1])"
   ]
  },
  {
   "cell_type": "code",
   "execution_count": 136,
   "id": "9696aef9",
   "metadata": {},
   "outputs": [
    {
     "data": {
      "image/png": "[encoded data removed]",
      "text/plain": [
       "<Figure size 864x576 with 2 Axes>"
      ]
     },
     "metadata": {
      "needs_background": "light"
     },
     "output_type": "display_data"
    }
   ],
   "source": [
    "fig, axs = plt.subplots(2)\n",
    "fig.set_size_inches(12,8)\n",
    "\n",
    "fig.suptitle('x1 & x2 vs iteration number', fontsize = 18)\n",
    "#subplot 1\n",
    "axs[0].plot(x, x1_val,'r')\n",
    "axs[0].grid()\n",
    "axs[0].set_ylabel('x1', fontsize = 15)\n",
    "\n",
    "#subplot 2\n",
    "axs[1].plot(x, x2_val, 'b')\n",
    "axs[1].grid()\n",
    "axs[1].set_ylabel('x2', fontsize = 15)\n",
    "\n",
    "plt.xlabel('Iteration Number', fontsize = 15)\n",
    "plt.show()"
   ]
  },
  {
   "cell_type": "code",
   "execution_count": 137,
   "id": "f0d18105",
   "metadata": {},
   "outputs": [
    {
     "data": {
      "image/png": "[encoded data removed]",
      "text/plain": [
       "<Figure size 864x576 with 1 Axes>"
      ]
     },
     "metadata": {
      "needs_background": "light"
     },
     "output_type": "display_data"
    }
   ],
   "source": [
    "fig = matplotlib.pyplot.gcf()\n",
    "fig.set_size_inches(12, 8)\n",
    "plt.plot(x,fx_val, color = 'k', marker='*', linewidth = 2)\n",
    "plt.grid()\n",
    "plt.xlabel('Iteration Number', fontsize = 15)\n",
    "plt.ylabel('f(x)', fontsize = 15)\n",
    "plt.title('f(x) vs Iteration Number [Powell-Dogleg Trust Region Method]', fontsize = 18)\n",
    "plt.show()"
   ]
  },
  {
   "cell_type": "code",
   "execution_count": null,
   "id": "fd4a3444",
   "metadata": {},
   "outputs": [],
   "source": []
  }
 ],
 "metadata": {
  "kernelspec": {
   "display_name": "Python 3",
   "language": "python",
   "name": "python3"
  },
  "language_info": {
   "codemirror_mode": {
    "name": "ipython",
    "version": 3
   },
   "file_extension": ".py",
   "mimetype": "text/x-python",
   "name": "python",
   "nbconvert_exporter": "python",
   "pygments_lexer": "ipython3",
   "version": "3.8.8"
  }
 },
 "nbformat": 4,
 "nbformat_minor": 5
}
